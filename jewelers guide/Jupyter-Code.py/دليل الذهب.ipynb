{
 "cells": [
  {
   "cell_type": "markdown",
   "id": "f33d5702-b327-4595-85c4-4318244e92d6",
   "metadata": {},
   "source": [
    "<div dir=\"rtl\" style=\"text-align: right;\">\r\n",
    "\r\n",
    "# مجوهرات والذهب: دليل الشراء والبيع بالدولار\r\n",
    "\r\n",
    "## مقدمة\r\n",
    "\r\n",
    "يعد الذهب من أقدم وأهم الأصول الاقتصادية، ولا يزال يُستخدم كوسيلة لحفظ القيمة والتداول عبر العصور. سواء كنت تتعامل في بيع وشراء المجوهرات الذهبية الكاملة أو الذهب المستعمل الذي يُباع للتذويب، يعتبر فهم أسعار الذهب وآليات السوق أمرًا بالغ الأهمية لتحقيق النجاح في هذا المجال.\r\n",
    "\r\n",
    "في هذا الدليل، سنقدم إرشادات عملية حول كيفية الشراء والبيع بالدولار الأمريكي، سواء كان الذهب في شكل مجوهرات كاملة أو ذهب مكسور (كسر) مخصص للتذويب. سنركز على الأسعار الفورية للذهب، وكيفية تقييم القطع الذهبية، بالإضافة إلى استراتيجيات الشراء والبيع لتحقيق أقصى استفادة ممكنة.\r\n",
    "\r\n",
    "## أهداف الدليل:\r\n",
    "1. فهم كيفية تحديد أسعار الذهب بالدولار سواء للذهب الكامل أو الكسر.\r\n",
    "2. تقديم نصائح عملية حول شراء الذهب بأفضل سعر.\r\n",
    "3. توجيهات حول بيع المجوهرات الذهبية والكسر بأعلى عائد.\r\n",
    "4. استكشاف العوامل التي تؤثر على الأسعار وكيفية التعامل مع تقلبات السوق.\r\n",
    "\r\n",
    "## الأدوات:\r\n",
    "- الاعتماد على مصادر أسعار الذهب الفورية بالدولار.\r\n",
    "- نصائح حول التعامل مع التجار والمصانع في السوق.\r\n",
    "- استراتيجيات للتفاوض على الأسعار عند الشراء والبيع.\r\n",
    "\r\n",
    "## مصدر الأسعار\r\n",
    "في هذا الدليل، سنستعين بالموقع الإلكتروني [goldprice.org](https://goldprice.org/) لاسترجاع الأسعار الفورية للذهب بالدولار الأمريكي. سيتم استخدام Python لتحويل الأسعار إلى سعر لكل جرام، حيث أن الأونصة الواحدة من الذهب تساوي 31.1035 جرام. سنقوم باستخدام هذا التحويل لحساب القيمة الدقيقة للذهب سواء كان في شكل مجوهرات أو ذهب مخصص للتذويب.\r\n",
    "\r\n",
    "</div>\r\n",
    " مخصص للتذويب.\r\n",
    "\r\n",
    "</div>مخصص للتذويب.\r\n",
    "\r\n",
    "</div>\r\n",
    "مخصص للتذويب.\r\n",
    "\r\n",
    "</div>\r\n",
    "اء والبيع.\r\n",
    "\r\n",
    "</div>\r\n",
    "اء والبيع.\r\n",
    "\r\n",
    "</div>\r\n",
    " الشراء والبيع.\r\n",
    "\r\n"
   ]
  },
  {
   "cell_type": "code",
   "execution_count": 1,
   "id": "4fa8b1c1-56b5-47fb-a656-a1be39c2d13f",
   "metadata": {},
   "outputs": [
    {
     "data": {
      "text/html": [
       "\n",
       "<div dir=\"rtl\" style=\"font-size: 24px; font-weight: bold;\">\n",
       "سعر الأونصة بالذهب بالدولار الأمريكي هو: 2648.6075 دولار\n",
       "<br>\n",
       "<strong>التوقيت الحالي: 2024-10-03 15:25:14</strong>\n",
       "</div>\n"
      ],
      "text/plain": [
       "<IPython.core.display.HTML object>"
      ]
     },
     "metadata": {},
     "output_type": "display_data"
    }
   ],
   "source": [
    "import requests\n",
    "from IPython.display import display, HTML\n",
    "from datetime import datetime\n",
    "\n",
    "# Get the current time\n",
    "current_time = datetime.now().strftime('%Y-%m-%d %H:%M:%S')\n",
    "\n",
    "# Fetching gold price data\n",
    "api_url = \"https://data-asg.goldprice.org/dbXRates/USD\"\n",
    "headers = {\n",
    "    \"User-Agent\": \"Mozilla/5.0 (X11; Ubuntu; Linux x86_64; rv:120.0) Gecko/20100101 Firefox/120.0\"\n",
    "}\n",
    "\n",
    "data = requests.get(api_url, headers=headers).json()\n",
    "\n",
    "# Extract the price in ounces\n",
    "price_per_ounce = data[\"items\"][0][\"xauPrice\"]\n",
    "\n",
    "# Display the price in Arabic with bold and large font along with the current time\n",
    "html_output = f\"\"\"\n",
    "<div dir=\"rtl\" style=\"font-size: 24px; font-weight: bold;\">\n",
    "سعر الأونصة بالذهب بالدولار الأمريكي هو: {price_per_ounce} دولار\n",
    "<br>\n",
    "<strong>التوقيت الحالي: {current_time}</strong>\n",
    "</div>\n",
    "\"\"\"\n",
    "\n",
    "display(HTML(html_output))\n"
   ]
  },
  {
   "cell_type": "code",
   "execution_count": 2,
   "id": "e1ec835b-81b7-4bb5-b5ea-8217057705e2",
   "metadata": {},
   "outputs": [
    {
     "data": {
      "text/html": [
       "\n",
       "<div dir=\"rtl\" style=\"font-size: 24px; font-weight: bold;\">\n",
       "سعر الجرام الواحد من الذهب الخالص بالدولار الأمريكي هو: 85.15 دولار\n",
       "<br>\n",
       "<strong>التوقيت الحالي: 2024-10-03 15:25:15</strong>\n",
       "</div>\n"
      ],
      "text/plain": [
       "<IPython.core.display.HTML object>"
      ]
     },
     "metadata": {},
     "output_type": "display_data"
    }
   ],
   "source": [
    "\n",
    "\n",
    "# Get the current time\n",
    "current_time = datetime.now().strftime('%Y-%m-%d %H:%M:%S')\n",
    "\n",
    "# Convert the price to grams\n",
    "price_per_gram_fine = price_per_ounce / 31.1035\n",
    "\n",
    "# Display the price per gram in Arabic with bold and large font along with the current time\n",
    "html_output = f\"\"\"\n",
    "<div dir=\"rtl\" style=\"font-size: 24px; font-weight: bold;\">\n",
    "سعر الجرام الواحد من الذهب الخالص بالدولار الأمريكي هو: {price_per_gram_fine:.2f} دولار\n",
    "<br>\n",
    "<strong>التوقيت الحالي: {current_time}</strong>\n",
    "</div>\n",
    "\"\"\"\n",
    "\n",
    "display(HTML(html_output))\n"
   ]
  },
  {
   "cell_type": "code",
   "execution_count": 3,
   "id": "5e3387b9-4670-4a6c-9713-249c38d9b1c5",
   "metadata": {},
   "outputs": [
    {
     "data": {
      "text/html": [
       "\n",
       "<div dir=\"rtl\">\n",
       "    \n",
       "<div dir=\"rtl\" style=\"font-size: 24px; font-weight: bold; text-align: right;\">\n",
       "    <p style=\"font-weight: bold;\">الأسعار في الجدول الأول تمثل سعر الجرام الواحد من الذهب في المجوهرات الجديدة، بينما تمثل الأسعار في الجدول الثاني أسعار التصفية (الكسر المخصص للتذويب).</p>\n",
       "    <p style=\"font-weight: bold;\">التوقيت الحالي: 2024-10-03 15:25:19</p>\n",
       "</div>\n",
       "<table class=\"dataframe table table-bordered\" id=\"prices_table\">\n",
       "  <thead>\n",
       "    <tr style=\"text-align: right;\">\n",
       "      <th>العيار</th>\n",
       "      <th>النسبة المئوية للذهب الخالص</th>\n",
       "      <th>سعر الجرام (مجوهرات جديدة)</th>\n",
       "      <th>معدل التصفية</th>\n",
       "      <th>سعر الجرام (التصفية)</th>\n",
       "    </tr>\n",
       "  </thead>\n",
       "  <tbody>\n",
       "    <tr>\n",
       "      <td>21</td>\n",
       "      <td>0.885</td>\n",
       "      <td>$75.36</td>\n",
       "      <td>0.865</td>\n",
       "      <td>$73.66</td>\n",
       "    </tr>\n",
       "    <tr>\n",
       "      <td>18</td>\n",
       "      <td>0.820</td>\n",
       "      <td>$69.83</td>\n",
       "      <td>0.735</td>\n",
       "      <td>$62.59</td>\n",
       "    </tr>\n",
       "    <tr>\n",
       "      <td>14</td>\n",
       "      <td>0.624</td>\n",
       "      <td>$53.14</td>\n",
       "      <td>0.565</td>\n",
       "      <td>$48.11</td>\n",
       "    </tr>\n",
       "  </tbody>\n",
       "</table>\n",
       "</div>\n"
      ],
      "text/plain": [
       "<IPython.core.display.HTML object>"
      ]
     },
     "metadata": {},
     "output_type": "display_data"
    }
   ],
   "source": [
    "import pandas as pd\n",
    "from IPython.display import display, HTML\n",
    "from datetime import datetime\n",
    "\n",
    "# Get the current time\n",
    "current_time = datetime.now().strftime('%Y-%m-%d %H:%M:%S')\n",
    "\n",
    "# Define karat values and their corresponding percentages\n",
    "karat_values = [21, 18, 14]  # Example karat values\n",
    "percentages = [0.885, 0.820, 0.624] \n",
    "\n",
    "# Define the liquidation rates\n",
    "liquidation_rates = [0.865, 0.735, 0.565]\n",
    "\n",
    "# Create a DataFrame for fixed jewelry prices (new jewelry)\n",
    "fixed_prices = pd.DataFrame({\n",
    "    'العيار': karat_values,\n",
    "    'النسبة المئوية للذهب الخالص': percentages,\n",
    "    'سعر الجرام (مجوهرات جديدة)': [f\"${price_per_gram_fine * percentage:.2f}\" for percentage in percentages]\n",
    "})\n",
    "\n",
    "# Create a DataFrame for liquidation prices (scrap for melting)\n",
    "liquidation_prices = pd.DataFrame({\n",
    "    'العيار': karat_values,\n",
    "    'معدل التصفية': liquidation_rates,\n",
    "    'سعر الجرام (التصفية)': [f\"${price_per_gram_fine * rate:.2f}\" for rate in liquidation_rates]\n",
    "})\n",
    "\n",
    "# Merge the two DataFrames on 'العيار'\n",
    "combined_prices = pd.merge(fixed_prices, liquidation_prices, on='العيار')\n",
    "\n",
    "# Display the data in Arabic with right-to-left alignment\n",
    "html_output = f\"\"\"\n",
    "<div dir=\"rtl\" style=\"font-size: 24px; font-weight: bold; text-align: right;\">\n",
    "    <p style=\"font-weight: bold;\">الأسعار في الجدول الأول تمثل سعر الجرام الواحد من الذهب في المجوهرات الجديدة، بينما تمثل الأسعار في الجدول الثاني أسعار التصفية (الكسر المخصص للتذويب).</p>\n",
    "    <p style=\"font-weight: bold;\">التوقيت الحالي: {current_time}</p>\n",
    "</div>\n",
    "\"\"\"\n",
    "\n",
    "\n",
    "# Convert DataFrame to HTML table and include Arabic explanation with right alignment\n",
    "combined_prices_html = combined_prices.to_html(index=False, justify='right', border=0, classes='table table-bordered', table_id='prices_table')\n",
    "\n",
    "# Final HTML with right-to-left formatting\n",
    "final_output = html_output + combined_prices_html\n",
    "final_output = f\"\"\"\n",
    "<div dir=\"rtl\">\n",
    "    {final_output}\n",
    "</div>\n",
    "\"\"\"\n",
    "\n",
    "display(HTML(final_output))\n"
   ]
  },
  {
   "cell_type": "code",
   "execution_count": 4,
   "id": "59076472-158d-4ef7-bea7-bb20bb397e4c",
   "metadata": {},
   "outputs": [
    {
     "data": {
      "text/html": [
       "\n",
       "<div dir=\"rtl\" style=\"font-size: 24px; font-weight: bold; text-align: right;\">\n",
       "    <p>سعر صرف الدولار الأمريكي مقابل الشيكل الإسرائيلي هو: 3.78 ش.ج</p>\n",
       "    <p style=\"color: red; font-weight: bold;\">تنبيه: قد يختلف السعر في السوق الفعلي الذي تتواجد فيه، مثل الناصرة، عن السعر المعروض على الشاشة بسبب عدم الكفاءة في السوق.</p>\n",
       "</div>\n"
      ],
      "text/plain": [
       "<IPython.core.display.HTML object>"
      ]
     },
     "metadata": {},
     "output_type": "display_data"
    }
   ],
   "source": [
    "import requests\n",
    "# Fetching USD to NIS exchange rate data\n",
    "api_url = \"https://api.exchangerate-api.com/v4/latest/USD\"  # Example API\n",
    "response = requests.get(api_url)\n",
    "data = response.json()\n",
    "\n",
    "# Extract the exchange rate for NIS\n",
    "usd_to_nis = data['rates']['ILS']  # ILS is the currency code for Israeli Shekel\n",
    "\n",
    "# Display the exchange rate in Arabic with a warning\n",
    "html_output = f\"\"\"\n",
    "<div dir=\"rtl\" style=\"font-size: 24px; font-weight: bold; text-align: right;\">\n",
    "    <p>سعر صرف الدولار الأمريكي مقابل الشيكل الإسرائيلي هو: {usd_to_nis:.2f} ش.ج</p>\n",
    "    <p style=\"color: red; font-weight: bold;\">تنبيه: قد يختلف السعر في السوق الفعلي الذي تتواجد فيه، مثل الناصرة، عن السعر المعروض على الشاشة بسبب عدم الكفاءة في السوق.</p>\n",
    "</div>\n",
    "\"\"\"\n",
    "\n",
    "display(HTML(html_output))\n"
   ]
  },
  {
   "cell_type": "code",
   "execution_count": 5,
   "id": "5ea89f63-d60e-4079-bd70-d97dcf9fd73f",
   "metadata": {},
   "outputs": [
    {
     "data": {
      "text/html": [
       "\n",
       "<div dir=\"rtl\" style=\"font-size: 24px; font-weight: bold;\">\n",
       "سعر الأونصة بالفضة بالدولار الأمريكي هو: 31.6843 دولار\n",
       "<br>\n",
       "<strong>التوقيت الحالي: 2024-10-03 15:25:20</strong>\n",
       "</div>\n"
      ],
      "text/plain": [
       "<IPython.core.display.HTML object>"
      ]
     },
     "metadata": {},
     "output_type": "display_data"
    }
   ],
   "source": [
    "# Get the current time\n",
    "current_time = datetime.now().strftime('%Y-%m-%d %H:%M:%S')\n",
    "\n",
    "# Fetching silver price data\n",
    "api_url = \"https://data-asg.goldprice.org/dbXRates/USD\"\n",
    "headers = {\n",
    "    \"User-Agent\": \"Mozilla/5.0 (X11; Ubuntu; Linux x86_64; rv:120.0) Gecko/20100101 Firefox/120.0\"\n",
    "}\n",
    "\n",
    "data = requests.get(api_url, headers=headers).json()\n",
    "\n",
    "# Extract the price in ounces\n",
    "price_per_ounce = data[\"items\"][0][\"xagPrice\"]\n",
    "\n",
    "# Display the price in Arabic with bold and large font along with the current time\n",
    "html_output = f\"\"\"\n",
    "<div dir=\"rtl\" style=\"font-size: 24px; font-weight: bold;\">\n",
    "سعر الأونصة بالفضة بالدولار الأمريكي هو: {price_per_ounce} دولار\n",
    "<br>\n",
    "<strong>التوقيت الحالي: {current_time}</strong>\n",
    "</div>\n",
    "\"\"\"\n",
    "\n",
    "display(HTML(html_output))"
   ]
  },
  {
   "cell_type": "code",
   "execution_count": null,
   "id": "523d2b6f-e315-419c-b8bd-d47fce4c54a2",
   "metadata": {},
   "outputs": [],
   "source": []
  }
 ],
 "metadata": {
  "kernelspec": {
   "display_name": "Python 3 (ipykernel)",
   "language": "python",
   "name": "python3"
  },
  "language_info": {
   "codemirror_mode": {
    "name": "ipython",
    "version": 3
   },
   "file_extension": ".py",
   "mimetype": "text/x-python",
   "name": "python",
   "nbconvert_exporter": "python",
   "pygments_lexer": "ipython3",
   "version": "3.12.4"
  }
 },
 "nbformat": 4,
 "nbformat_minor": 5
}
