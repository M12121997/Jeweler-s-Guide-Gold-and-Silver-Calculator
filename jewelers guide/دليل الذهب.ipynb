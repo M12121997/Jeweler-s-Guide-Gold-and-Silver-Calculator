{
 "cells": [
  {
   "cell_type": "markdown",
   "id": "f33d5702-b327-4595-85c4-4318244e92d6",
   "metadata": {},
   "source": [
    "<div dir=\"rtl\" style=\"text-align: right;\">\n",
    "\n",
    "# مجوهرات والذهب: دليل الشراء والبيع بالدولار\n",
    "\n",
    "## مقدمة\n",
    "\n",
    "يعد الذهب من أقدم وأهم الأصول الاقتصادية، ولا يزال يُستخدم كوسيلة لحفظ القيمة والتداول عبر العصور. سواء كنت تتعامل في بيع وشراء المجوهرات الذهبية الكاملة أو الذهب المستعمل الذي يُباع للتذويب، يعتبر فهم أسعار الذهب وآليات السوق أمرًا بالغ الأهمية لتحقيق النجاح في هذا المجال.\n",
    "\n",
    "في هذا الدليل، سنقدم إرشادات عملية حول كيفية الشراء والبيع بالدولار الأمريكي، سواء كان الذهب في شكل مجوهرات كاملة أو ذهب مكسور (كسر) مخصص للتذويب. سنركز على الأسعار الفورية للذهب، وكيفية تقييم القطع الذهبية، بالإضافة إلى استراتيجيات الشراء والبيع لتحقيق أقصى استفادة ممكنة.\n",
    "\n",
    "## أهداف الدليل:\n",
    "1. فهم كيفية تحديد أسعار الذهب بالدولار سواء للذهب الكامل أو الكسر.\n",
    "2. تقديم نصائح عملية حول شراء الذهب بأفضل سعر.\n",
    "3. توجيهات حول بيع المجوهرات الذهبية والكسر بأعلى عائد.\n",
    "4. استكشاف العوامل التي تؤثر على الأسعار وكيفية التعامل مع تقلبات السوق.\n",
    "\n",
    "## الأدوات:\n",
    "- الاعتماد على مصادر أسعار الذهب الفورية بالدولار.\n",
    "- نصائح حول التعامل مع التجار والمصانع في السوق.\n",
    "- استراتيجيات للتفاوض على الأسعار عند الشراء والبيع.\n",
    "\n",
    "## مصدر الأسعار\n",
    "في هذا الدليل، سنستعين بالموقع الإلكتروني [goldprice.org](https://goldprice.org/) لاسترجاع الأسعار الفورية للذهب بالدولار الأمريكي. سيتم استخدام Python لتحويل الأسعار إلى سعر لكل جرام، حيث أن الأونصة الواحدة من الذهب تساوي 31.1035 جرام. سنقوم باستخدام هذا التحويل لحساب القيمة الدقيقة للذهب سواء كان في شكل مجوهرات أو ذهب مخصص للتذويب.\n",
    "\n",
    "</div>\n",
    " مخصص للتذويب.\n",
    "\n",
    "</div>مخصص للتذويب.\n",
    "\n",
    "</div>\n",
    "مخصص للتذويب.\n",
    "\n",
    "</div>\n",
    "اء والبيع.\n",
    "\n",
    "</div>\n",
    "اء والبيع.\n",
    "\n",
    "</div>\n",
    " الشراء والبيع.\n",
    "\n"
   ]
  },
  {
   "cell_type": "code",
   "execution_count": 1,
   "id": "4fa8b1c1-56b5-47fb-a656-a1be39c2d13f",
   "metadata": {},
   "outputs": [
    {
     "data": {
      "text/html": [
       "\n",
       "<div dir=\"rtl\" style=\"font-size: 24px; font-weight: bold;\">\n",
       "سعر الأونصة بالذهب بالدولار الأمريكي هو: 2652.1025 دولار\n",
       "<br>\n",
       "<strong>التوقيت الحالي: 2024-10-07 11:18:52</strong>\n",
       "</div>\n"
      ],
      "text/plain": [
       "<IPython.core.display.HTML object>"
      ]
     },
     "metadata": {},
     "output_type": "display_data"
    }
   ],
   "source": [
    "import requests\n",
    "from IPython.display import display, HTML\n",
    "from datetime import datetime\n",
    "\n",
    "# Get the current time\n",
    "current_time = datetime.now().strftime('%Y-%m-%d %H:%M:%S')\n",
    "\n",
    "# Fetching gold price data\n",
    "api_url = \"https://data-asg.goldprice.org/dbXRates/USD\"\n",
    "headers = {\n",
    "    \"User-Agent\": \"Mozilla/5.0 (X11; Ubuntu; Linux x86_64; rv:120.0) Gecko/20100101 Firefox/120.0\"\n",
    "}\n",
    "\n",
    "data = requests.get(api_url, headers=headers).json()\n",
    "\n",
    "# Extract the price in ounces\n",
    "price_per_ounce = data[\"items\"][0][\"xauPrice\"]\n",
    "\n",
    "# Display the price in Arabic with bold and large font along with the current time\n",
    "html_output = f\"\"\"\n",
    "<div dir=\"rtl\" style=\"font-size: 24px; font-weight: bold;\">\n",
    "سعر الأونصة بالذهب بالدولار الأمريكي هو: {price_per_ounce} دولار\n",
    "<br>\n",
    "<strong>التوقيت الحالي: {current_time}</strong>\n",
    "</div>\n",
    "\"\"\"\n",
    "\n",
    "display(HTML(html_output))\n"
   ]
  },
  {
   "cell_type": "code",
   "execution_count": 2,
   "id": "e1ec835b-81b7-4bb5-b5ea-8217057705e2",
   "metadata": {},
   "outputs": [
    {
     "data": {
      "text/html": [
       "\n",
       "<div dir=\"rtl\" style=\"font-size: 24px; font-weight: bold;\">\n",
       "سعر الجرام الواحد من الذهب الخالص بالدولار الأمريكي هو: 82.49 دولار\n",
       "<br>\n",
       "<strong>التوقيت الحالي: 2024-10-07 11:18:53</strong>\n",
       "</div>\n"
      ],
      "text/plain": [
       "<IPython.core.display.HTML object>"
      ]
     },
     "metadata": {},
     "output_type": "display_data"
    }
   ],
   "source": [
    "\n",
    "\n",
    "# Get the current time\n",
    "current_time = datetime.now().strftime('%Y-%m-%d %H:%M:%S')\n",
    "\n",
    "# Convert the price to grams\n",
    "price_per_gram_fine = price_per_ounce / 32.15\n",
    "\n",
    "# Display the price per gram in Arabic with bold and large font along with the current time\n",
    "html_output = f\"\"\"\n",
    "<div dir=\"rtl\" style=\"font-size: 24px; font-weight: bold;\">\n",
    "سعر الجرام الواحد من الذهب الخالص بالدولار الأمريكي هو: {price_per_gram_fine:.2f} دولار\n",
    "<br>\n",
    "<strong>التوقيت الحالي: {current_time}</strong>\n",
    "</div>\n",
    "\"\"\"\n",
    "\n",
    "display(HTML(html_output))\n"
   ]
  },
  {
   "cell_type": "code",
   "execution_count": 3,
   "id": "5e3387b9-4670-4a6c-9713-249c38d9b1c5",
   "metadata": {},
   "outputs": [
    {
     "data": {
      "text/html": [
       "\n",
       "<div dir=\"rtl\">\n",
       "    \n",
       "<div dir=\"rtl\" style=\"font-size: 24px; font-weight: bold; text-align: right;\">\n",
       "    <p style=\"font-weight: bold;\">الأسعار في الجدول الأول تمثل سعر الجرام الواحد من الذهب في المجوهرات الجديدة، بينما تمثل الأسعار في الجدول الثاني أسعار التصفية (الكسر المخصص للتذويب).</p>\n",
       "    <p style=\"font-weight: bold;\">التوقيت الحالي: 2024-10-07 11:18:55</p>\n",
       "</div>\n",
       "<table class=\"dataframe table table-bordered\" id=\"prices_table\">\n",
       "  <thead>\n",
       "    <tr style=\"text-align: right;\">\n",
       "      <th>العيار</th>\n",
       "      <th>النسبة المئوية للذهب الخالص</th>\n",
       "      <th>سعر الجرام (مجوهرات جديدة)</th>\n",
       "      <th>معدل التصفية</th>\n",
       "      <th>سعر الجرام (التصفية)</th>\n",
       "    </tr>\n",
       "  </thead>\n",
       "  <tbody>\n",
       "    <tr>\n",
       "      <td>21</td>\n",
       "      <td>0.885</td>\n",
       "      <td>$73.00</td>\n",
       "      <td>0.865</td>\n",
       "      <td>$71.36</td>\n",
       "    </tr>\n",
       "    <tr>\n",
       "      <td>18</td>\n",
       "      <td>0.820</td>\n",
       "      <td>$67.64</td>\n",
       "      <td>0.735</td>\n",
       "      <td>$60.63</td>\n",
       "    </tr>\n",
       "    <tr>\n",
       "      <td>14</td>\n",
       "      <td>0.624</td>\n",
       "      <td>$51.47</td>\n",
       "      <td>0.565</td>\n",
       "      <td>$46.61</td>\n",
       "    </tr>\n",
       "  </tbody>\n",
       "</table>\n",
       "</div>\n"
      ],
      "text/plain": [
       "<IPython.core.display.HTML object>"
      ]
     },
     "metadata": {},
     "output_type": "display_data"
    }
   ],
   "source": [
    "import pandas as pd\n",
    "from IPython.display import display, HTML\n",
    "from datetime import datetime\n",
    "\n",
    "# Get the current time\n",
    "current_time = datetime.now().strftime('%Y-%m-%d %H:%M:%S')\n",
    "\n",
    "# Define karat values and their corresponding percentages\n",
    "karat_values = [21, 18, 14]  # Example karat values\n",
    "percentages = [0.885, 0.820, 0.624] \n",
    "\n",
    "# Define the liquidation rates\n",
    "liquidation_rates = [0.865, 0.735, 0.565]\n",
    "\n",
    "# Create a DataFrame for fixed jewelry prices (new jewelry)\n",
    "fixed_prices = pd.DataFrame({\n",
    "    'العيار': karat_values,\n",
    "    'النسبة المئوية للذهب الخالص': percentages,\n",
    "    'سعر الجرام (مجوهرات جديدة)': [f\"${price_per_gram_fine * percentage:.2f}\" for percentage in percentages]\n",
    "})\n",
    "\n",
    "# Create a DataFrame for liquidation prices (scrap for melting)\n",
    "liquidation_prices = pd.DataFrame({\n",
    "    'العيار': karat_values,\n",
    "    'معدل التصفية': liquidation_rates,\n",
    "    'سعر الجرام (التصفية)': [f\"${price_per_gram_fine * rate:.2f}\" for rate in liquidation_rates]\n",
    "})\n",
    "\n",
    "# Merge the two DataFrames on 'العيار'\n",
    "combined_prices = pd.merge(fixed_prices, liquidation_prices, on='العيار')\n",
    "\n",
    "# Display the data in Arabic with right-to-left alignment\n",
    "html_output = f\"\"\"\n",
    "<div dir=\"rtl\" style=\"font-size: 24px; font-weight: bold; text-align: right;\">\n",
    "    <p style=\"font-weight: bold;\">الأسعار في الجدول الأول تمثل سعر الجرام الواحد من الذهب في المجوهرات الجديدة، بينما تمثل الأسعار في الجدول الثاني أسعار التصفية (الكسر المخصص للتذويب).</p>\n",
    "    <p style=\"font-weight: bold;\">التوقيت الحالي: {current_time}</p>\n",
    "</div>\n",
    "\"\"\"\n",
    "\n",
    "\n",
    "# Convert DataFrame to HTML table and include Arabic explanation with right alignment\n",
    "combined_prices_html = combined_prices.to_html(index=False, justify='right', border=0, classes='table table-bordered', table_id='prices_table')\n",
    "\n",
    "# Final HTML with right-to-left formatting\n",
    "final_output = html_output + combined_prices_html\n",
    "final_output = f\"\"\"\n",
    "<div dir=\"rtl\">\n",
    "    {final_output}\n",
    "</div>\n",
    "\"\"\"\n",
    "\n",
    "display(HTML(final_output))\n"
   ]
  },
  {
   "cell_type": "code",
   "execution_count": 4,
   "id": "59076472-158d-4ef7-bea7-bb20bb397e4c",
   "metadata": {},
   "outputs": [
    {
     "data": {
      "text/html": [
       "\n",
       "<div dir=\"rtl\" style=\"font-size: 24px; font-weight: bold; text-align: right;\">\n",
       "    <p>سعر صرف الدولار الأمريكي مقابل الشيكل الإسرائيلي هو: 3.81 ش.ج</p>\n",
       "    <p style=\"color: red; font-weight: bold;\">تنبيه: قد يختلف السعر في السوق الفعلي الذي تتواجد فيه، مثل الناصرة، عن السعر المعروض على الشاشة بسبب عدم الكفاءة في السوق.</p>\n",
       "</div>\n"
      ],
      "text/plain": [
       "<IPython.core.display.HTML object>"
      ]
     },
     "metadata": {},
     "output_type": "display_data"
    }
   ],
   "source": [
    "import requests\n",
    "# Fetching USD to NIS exchange rate data\n",
    "api_url = \"https://api.exchangerate-api.com/v4/latest/USD\"  # Example API\n",
    "response = requests.get(api_url)\n",
    "data = response.json()\n",
    "\n",
    "# Extract the exchange rate for NIS\n",
    "usd_to_nis = data['rates']['ILS']  # ILS is the currency code for Israeli Shekel\n",
    "\n",
    "# Display the exchange rate in Arabic with a warning\n",
    "html_output = f\"\"\"\n",
    "<div dir=\"rtl\" style=\"font-size: 24px; font-weight: bold; text-align: right;\">\n",
    "    <p>سعر صرف الدولار الأمريكي مقابل الشيكل الإسرائيلي هو: {usd_to_nis:.2f} ش.ج</p>\n",
    "    <p style=\"color: red; font-weight: bold;\">تنبيه: قد يختلف السعر في السوق الفعلي الذي تتواجد فيه، مثل الناصرة، عن السعر المعروض على الشاشة بسبب عدم الكفاءة في السوق.</p>\n",
    "</div>\n",
    "\"\"\"\n",
    "\n",
    "display(HTML(html_output))\n"
   ]
  },
  {
   "cell_type": "code",
   "execution_count": 5,
   "id": "5ea89f63-d60e-4079-bd70-d97dcf9fd73f",
   "metadata": {},
   "outputs": [
    {
     "data": {
      "text/html": [
       "\n",
       "<div dir=\"rtl\" style=\"font-size: 24px; font-weight: bold;\">\n",
       "سعر الأونصة بالفضة بالدولار الأمريكي هو: 31.9533 دولار\n",
       "<br>\n",
       "<strong>التوقيت الحالي: 2024-10-07 11:18:56</strong>\n",
       "</div>\n"
      ],
      "text/plain": [
       "<IPython.core.display.HTML object>"
      ]
     },
     "metadata": {},
     "output_type": "display_data"
    }
   ],
   "source": [
    "# Get the current time\n",
    "current_time = datetime.now().strftime('%Y-%m-%d %H:%M:%S')\n",
    "\n",
    "# Fetching silver price data\n",
    "api_url = \"https://data-asg.goldprice.org/dbXRates/USD\"\n",
    "headers = {\n",
    "    \"User-Agent\": \"Mozilla/5.0 (X11; Ubuntu; Linux x86_64; rv:120.0) Gecko/20100101 Firefox/120.0\"\n",
    "}\n",
    "\n",
    "data = requests.get(api_url, headers=headers).json()\n",
    "\n",
    "# Extract the price in ounces\n",
    "price_per_ounce = data[\"items\"][0][\"xagPrice\"]\n",
    "\n",
    "# Display the price in Arabic with bold and large font along with the current time\n",
    "html_output = f\"\"\"\n",
    "<div dir=\"rtl\" style=\"font-size: 24px; font-weight: bold;\">\n",
    "سعر الأونصة بالفضة بالدولار الأمريكي هو: {price_per_ounce} دولار\n",
    "<br>\n",
    "<strong>التوقيت الحالي: {current_time}</strong>\n",
    "</div>\n",
    "\"\"\"\n",
    "\n",
    "display(HTML(html_output))"
   ]
  },
  {
   "cell_type": "markdown",
   "id": "bef79ab1-10ba-43c9-9d1e-a2648e77155b",
   "metadata": {},
   "source": [
    "<div dir=\"rtl\" style=\"text-align: right;\">\n",
    "\n",
    "### مقدمة عن الجنيهات الذهبية البريطانية\n",
    "\n",
    "الجنيه الذهبي البريطاني هو عملة ذهبية مشهورة ذات تاريخ غني يمتد لعدة قرون. تم إصدار أول جنيه ذهبي في عام 1489 في عهد الملك هنري السابع، ومنذ ذلك الحين أصبح رمزًا للقوة الاقتصادية والاستقرار المالي.\n",
    "\n",
    "#### مواصفات الجنيه الذهبي البريطاني\n",
    "\n",
    "- **الوزن**: 7.98 جرام\n",
    "- **القطر**: 22.05 ملم\n",
    "- **السماكة**: 1.52 ملم\n",
    "- **التركيب**: 22 قيراط (91.67% ذهب، 8.33% نحاس)\n",
    "- **القيمة الاسمية**: 1 جنيه إسترليني\n",
    "\n",
    "تتميز الجنيهات الذهبية البريطانية بتصميمات فنية رائعة، وغالبًا ما تحمل صورة الملك أو الملكة الحاكمة على الوجه الأمامي، بينما يظهر على الوجه الخلفي تصميمات متنوعة مثل القديس جورج وهو يقتل التنين.\n",
    "\n",
    "</div>\n"
   ]
  },
  {
   "cell_type": "markdown",
   "id": "f59a153d-5cff-4b07-8ee8-a73f92c7548d",
   "metadata": {},
   "source": [
    "<div dir=\"rtl\" style=\"text-align: right;\">\n",
    "    <table border=\"1\" style=\"width:100%; border-collapse: collapse;\">\n",
    "        <tr>\n",
    "            <th>الملك المُصدر</th>\n",
    "            <th>الفترة</th>\n",
    "            <th>عدد السنوات</th>\n",
    "        </tr>\n",
    "        <tr>\n",
    "            <td>إليزابيث الثانية</td>\n",
    "            <td>1952-2022</td>\n",
    "            <td>155</td>\n",
    "        </tr>\n",
    "        <tr>\n",
    "            <td>جورج السادس</td>\n",
    "            <td>1936-1952</td>\n",
    "            <td>2</td>\n",
    "        </tr>\n",
    "        <tr>\n",
    "            <td>جورج الخامس</td>\n",
    "            <td>1910-1936</td>\n",
    "            <td>10</td>\n",
    "        </tr>\n",
    "        <tr>\n",
    "            <td>إدوارد السابع</td>\n",
    "            <td>1901-1910</td>\n",
    "            <td>10</td>\n",
    "        </tr>\n",
    "        <tr>\n",
    "            <td>فيكتوريا</td>\n",
    "            <td>1837-1901</td>\n",
    "            <td>69</td>\n",
    "        </tr>\n",
    "    </table>\n",
    "</div>\n",
    "iv>\n",
    " في ملبورن بأستراليا، علامة M موجودة في\n"
   ]
  },
  {
   "cell_type": "markdown",
   "id": "8a2aa7d2-8e01-4fd1-89cd-6a5b60332395",
   "metadata": {},
   "source": [
    "<div dir=\"rtl\" style=\"text-align: right;\">\n",
    "    سيادة إدوارد السابع\n",
    "    <br>\n",
    "    تتميز سيادة إدوارد السابع لعام 1902 بصورة لإدوارد السابع، متجهة إلى اليمين، من تصميم جورج ويليام دي سوليس على الوجه الأمامي، بينما يظهر التصميم المألوف للقديس جورج والتنين من تصميم بينيديتو بيستروتشي على الوجه الخلفي للعملة. للأسف، توفي دي سوليس فجأة بعد عام واحد فقط، في يوليو 1903، عن عمر يناهز 41 عامًا.\n",
    "</div>\n"
   ]
  },
  {
   "cell_type": "markdown",
   "id": "23341e2d-4a09-4023-bbbc-d1ad0a0a9b59",
   "metadata": {},
   "source": [
    "<div dir=\"rtl\" style=\"text-align: right;\">\n",
    "\n",
    "| دار السك | علامة دار السك | أول سنة | آخر سنة |\n",
    "|----------|----------------|---------|---------|\n",
    "| لندن     | لا توجد        | 1817    | 1975*   |\n",
    "| سيدني    | S              | 1871    | 1926    |\n",
    "| ملبورن   | M              | 1872    | 1931    |\n",
    "| بيرث     | P              | 1899    | 1931    |\n",
    "| أوتاوا   | C              | 1908    | 1919    |\n",
    "| بومباي   | I              | 1918    | 1918    |\n",
    "| بريتوريا | SA             | 1923    | 1932    |\n",
    "\n",
    "*منذ عام 1976، تم سك الجنيهات الذهبية في فرع دار السك الملكية في لانترسانت، ويلز.\n",
    "\n",
    "</div>\n"
   ]
  },
  {
   "cell_type": "markdown",
   "id": "c771800d-7449-4639-84cf-4d8b2dce6c81",
   "metadata": {},
   "source": [
    "<div dir=\"rtl\" style=\"text-align: right;\">\n",
    "\n",
    "## أين تجد علامة دار السك على الجنيه الذهبي\n",
    "\n",
    "قد يجد العديد من هواة جمع العملات صعوبة في العثور على علامة دار السك في البداية. ستساعدك الصور أدناه في تحديد موقعها. قد تجد أنه من المفيد استخدام عدسة مكبرة أو مكبر للنظر إلى عملتك.\n",
    "\n",
    "### فيكتوريا رأس شاب\n",
    "\n",
    "على الجنيهات الذهبية من نوع فيكتوريا رأس شاب مع الوجه الخلفي الذي يحتوي على الدرع، توجد علامات دار السك على الوجه الخلفي أسفل قوس الإكليل ولكن فوق التنزيلات\n",
    "\n",
    "</div>\n",
    "ت\n",
    "\n",
    "</div>\n",
    ".\n"
   ]
  },
  {
   "cell_type": "code",
   "execution_count": 24,
   "id": "42ff201d-74bd-41a1-99c5-924dbf482b0d",
   "metadata": {},
   "outputs": [
    {
     "data": {
      "text/html": [
       "<div dir=\"rtl\" style=\"text-align: center;\"><img src=\"C:\\Users\\mohab\\Desktop\\jewelers guide\\Images\\pic1.jpg\" alt=\"Image\"></div>"
      ],
      "text/plain": [
       "<IPython.core.display.HTML object>"
      ]
     },
     "metadata": {},
     "output_type": "display_data"
    }
   ],
   "source": [
    "from IPython.display import Image, display, HTML\n",
    "from pathlib import Path\n",
    "\n",
    "# -- PATH SETTINGS ---\n",
    "current_dir = Path(r\"Images\")\n",
    "\n",
    "# Path to your image\n",
    "image_path = current_dir / \"pic1.jpg\"\n",
    "\n",
    "# Display the image in the center\n",
    "display(HTML(f'<div dir=\"rtl\" style=\"text-align: center;\"><img src=\"{image_path}\" alt=\"Image\"></div>'))\n"
   ]
  },
  {
   "cell_type": "markdown",
   "id": "61810436-1b68-4070-8e71-e9b2431612b8",
   "metadata": {},
   "source": [
    "<div dir=\"rtl\" style=\"text-align: right;\">\n",
    "    <h2><b>بالنسبة لعملات السيادة لرأس فيكتوريا الشابة مع الوجه الخلفي للقديس جورج والتنين، يظهر علامة اسكع على الوجه الأمامي تحت الرأس.</b></h2>\n",
    "</div>\n"
   ]
  },
  {
   "cell_type": "code",
   "execution_count": 21,
   "id": "69bac9e0-f28e-4ae0-9169-26b5677e9119",
   "metadata": {},
   "outputs": [
    {
     "data": {
      "text/html": [
       "<div dir=\"rtl\" style=\"text-align: center;\"><img src=\"C:\\Users\\mohab\\Desktop\\jewelers guide\\Images\\pic2.jpg\" alt=\"Image\"></div>"
      ],
      "text/plain": [
       "<IPython.core.display.HTML object>"
      ]
     },
     "metadata": {},
     "output_type": "display_data"
    }
   ],
   "source": [
    "from IPython.display import Image, display, HTML\n",
    "\n",
    "# Path to your image\n",
    "image_path = current_dir / \"pic2.jpg\"\n",
    "\n",
    "# Display the image in the center\n",
    "display(HTML(f'<div dir=\"rtl\" style=\"text-align: center;\"><img src=\"{image_path}\" alt=\"Image\"></div>'))\n"
   ]
  },
  {
   "cell_type": "markdown",
   "id": "0022886d-ae5c-4e97-b779-511ca453abf3",
   "metadata": {},
   "source": [
    "<div dir=\"rtl\" style=\"text-align: right;\">\n",
    "    <h2><b>في عام 1887، تم إصدار ثلاثة أنواع مختلفة من عملات السيادة: رأس فيكتوريا الشابة مع الوجه الخلفي للدرع (توجد علامات النعناع على الوجه الخلفي أسفل الدرع والقوس)، رأس فيكتوريا الشابة (توجد علامات السك على الوجه الأمامي تحت القطع) ورأس فيكتوريا اليوبيل (توجد علامات النعناع على الوجه الخلفي في الأرضية فوق التاريخ).</b></h2>\n",
    "</div>\n"
   ]
  },
  {
   "cell_type": "code",
   "execution_count": 22,
   "id": "9bf8e2ae-b67f-45f8-ba7a-47e38aec7670",
   "metadata": {},
   "outputs": [
    {
     "data": {
      "text/html": [
       "<div dir=\"rtl\" style=\"text-align: center;\"><img src=\"C:\\Users\\mohab\\Desktop\\jewelers guide\\Images\\pic3.jpg\" alt=\"Image\"></div>"
      ],
      "text/plain": [
       "<IPython.core.display.HTML object>"
      ]
     },
     "metadata": {},
     "output_type": "display_data"
    }
   ],
   "source": [
    "from IPython.display import Image, display, HTML\n",
    "\n",
    "# Path to your image\n",
    "image_path = current_dir / \"pic3.jpg\"\n",
    "\n",
    "# Display the image in the center\n",
    "display(HTML(f'<div dir=\"rtl\" style=\"text-align: center;\"><img src=\"{image_path}\" alt=\"Image\"></div>'))\n"
   ]
  },
  {
   "cell_type": "markdown",
   "id": "4cfc919b-b17b-4e6a-8b7e-f0c9b051fbc2",
   "metadata": {},
   "source": [
    "<div dir=\"rtl\" style=\"text-align: right;\">\n",
    "    تم إصدار عملات السيادة بين عامي 1888 و1932 التي تم ضربها من قبل أحد فروع النعناع الخارجية جميعها تحتوي على علامة النعناع على الوجه الخلفي في الأرضية فوق تاريخ السنة.\n",
    "\n",
    "    إذا لم تكن هناك علامة نعناع، فهذا يشير إلى أن العملة تم إصدارها من قبل دار سك العملة الملكية في لندن.\n",
    "</div>\n"
   ]
  },
  {
   "cell_type": "markdown",
   "id": "d3033b34-4d3b-4414-ad9a-85bcdf142990",
   "metadata": {},
   "source": [
    "<div dir=\"rtl\" style=\"text-align: right;\">\n",
    "    <h2><b>المراجع</b></h2>\n",
    "    <ul>\n",
    "        <li><a href=\"https://www.bullionbypost.co.uk/info/sovereign-coin-design/?srsltid=AfmBOor4i5PGfgWROPDaXv-kNB1Ka6DaP9ZBiCE0w8Az0kuQpOG6-ZZ3\">المصدر 1</a></li>\n",
    "        <li><a href=\"https://www.chards.co.uk/guides/sovereign-guide\">المصدر 2</a></li>\n",
    "    </ul>\n",
    "</div>\n"
   ]
  },
  {
   "cell_type": "code",
   "execution_count": null,
   "id": "f339f309-514a-4824-a582-784c02b42b7e",
   "metadata": {},
   "outputs": [],
   "source": []
  }
 ],
 "metadata": {
  "kernelspec": {
   "display_name": "Python 3 (ipykernel)",
   "language": "python",
   "name": "python3"
  },
  "language_info": {
   "codemirror_mode": {
    "name": "ipython",
    "version": 3
   },
   "file_extension": ".py",
   "mimetype": "text/x-python",
   "name": "python",
   "nbconvert_exporter": "python",
   "pygments_lexer": "ipython3",
   "version": "3.12.4"
  }
 },
 "nbformat": 4,
 "nbformat_minor": 5
}
